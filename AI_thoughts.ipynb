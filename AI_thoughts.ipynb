{
  "nbformat": 4,
  "nbformat_minor": 0,
  "metadata": {
    "colab": {
      "provenance": [],
      "authorship_tag": "ABX9TyMXQJmdvvqbf4i6MqiHnfOU",
      "include_colab_link": true
    },
    "kernelspec": {
      "name": "python3",
      "display_name": "Python 3"
    },
    "language_info": {
      "name": "python"
    }
  },
  "cells": [
    {
      "cell_type": "markdown",
      "metadata": {
        "id": "view-in-github",
        "colab_type": "text"
      },
      "source": [
        "<a href=\"https://colab.research.google.com/github/PruekPS/ai-thoughts/blob/main/AI_thoughts.ipynb\" target=\"_parent\"><img src=\"https://colab.research.google.com/assets/colab-badge.svg\" alt=\"Open In Colab\"/></a>"
      ]
    },
    {
      "cell_type": "markdown",
      "source": [
        "# My thoughts in AI\n",
        "\n",
        "## Things I want to do with AI\n",
        "\n",
        "*Try updating"
      ],
      "metadata": {
        "id": "O5triWt2RB59"
      }
    },
    {
      "cell_type": "code",
      "source": [],
      "metadata": {
        "id": "B-ANImEiQ-Se"
      },
      "execution_count": null,
      "outputs": []
    }
  ]
}